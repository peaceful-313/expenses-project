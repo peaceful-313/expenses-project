{
 "cells": [
  {
   "cell_type": "code",
   "execution_count": 1,
   "metadata": {},
   "outputs": [],
   "source": [
    "# Import classes\n",
    "from expenses import ExpenseRecord, ExpenseDB\n",
    "# Initialize the database\n",
    "db = ExpenseDB()"
   ]
  },
  {
   "cell_type": "code",
   "execution_count": 2,
   "metadata": {},
   "outputs": [],
   "source": [
    "# Creating expenses\n",
    "e1 = ExpenseRecord(\"Food\", 10.0)\n",
    "e2 = ExpenseRecord(\"Transport\", 5.0)\n",
    "e3 = ExpenseRecord(\"Food\", 8.0)\n",
    "e4 = ExpenseRecord(\"Carrot\", 15.0)\n",
    "e5 = ExpenseRecord(\"Maize\", 3.0)"
   ]
  },
  {
   "cell_type": "code",
   "execution_count": 3,
   "metadata": {},
   "outputs": [],
   "source": [
    "db.add_expense(e1)\n",
    "db.add_expense(e2)\n",
    "db.add_expense(e3)\n",
    "db.add_expense(e4)\n",
    "db.add_expense(e5)"
   ]
  },
  {
   "cell_type": "code",
   "execution_count": 5,
   "metadata": {},
   "outputs": [
    {
     "data": {
      "text/plain": [
       "[{'id': '471c0f8b-7252-4de1-b12c-5ac47e45c856',\n",
       "  'title': 'Food',\n",
       "  'amount': 10.0,\n",
       "  'created_at': '2025-02-22T22:44:42.105744+00:00',\n",
       "  'updated_at': '2025-02-22T22:44:42.105744+00:00'},\n",
       " {'id': 'a52ce43d-110d-4daf-b0dd-0b1e2841d866',\n",
       "  'title': 'Transport',\n",
       "  'amount': 5.0,\n",
       "  'created_at': '2025-02-22T22:44:42.105817+00:00',\n",
       "  'updated_at': '2025-02-22T22:44:42.105817+00:00'},\n",
       " {'id': '2c734fe0-fa38-48e2-8b54-89a2d8dc58cf',\n",
       "  'title': 'Food',\n",
       "  'amount': 8.0,\n",
       "  'created_at': '2025-02-22T22:44:42.105877+00:00',\n",
       "  'updated_at': '2025-02-22T22:44:42.105877+00:00'},\n",
       " {'id': 'd05bd16a-8f36-43c9-bff1-035c05674bc5',\n",
       "  'title': 'Carrot',\n",
       "  'amount': 15.0,\n",
       "  'created_at': '2025-02-22T22:44:42.105934+00:00',\n",
       "  'updated_at': '2025-02-22T22:44:42.105934+00:00'},\n",
       " {'id': '45d9f785-9686-4050-92f1-fea4177426ce',\n",
       "  'title': 'Maize',\n",
       "  'amount': 3.0,\n",
       "  'created_at': '2025-02-22T22:44:42.105989+00:00',\n",
       "  'updated_at': '2025-02-22T22:44:42.105989+00:00'}]"
      ]
     },
     "execution_count": 5,
     "metadata": {},
     "output_type": "execute_result"
    }
   ],
   "source": [
    "# checking db \n",
    "db.to_dict()"
   ]
  },
  {
   "cell_type": "code",
   "execution_count": 6,
   "metadata": {},
   "outputs": [
    {
     "data": {
      "text/plain": [
       "{'id': '471c0f8b-7252-4de1-b12c-5ac47e45c856',\n",
       " 'title': 'Food',\n",
       " 'amount': 10.0,\n",
       " 'created_at': '2025-02-22T22:44:42.105744+00:00',\n",
       " 'updated_at': '2025-02-22T22:44:42.105744+00:00'}"
      ]
     },
     "execution_count": 6,
     "metadata": {},
     "output_type": "execute_result"
    }
   ],
   "source": [
    "db.get_expense(e1.id).to_dict()"
   ]
  },
  {
   "cell_type": "code",
   "execution_count": 7,
   "metadata": {},
   "outputs": [
    {
     "data": {
      "text/plain": [
       "[{'id': '45d9f785-9686-4050-92f1-fea4177426ce',\n",
       "  'title': 'Maize',\n",
       "  'amount': 3.0,\n",
       "  'created_at': '2025-02-22T22:44:42.105989+00:00',\n",
       "  'updated_at': '2025-02-22T22:44:42.105989+00:00'}]"
      ]
     },
     "execution_count": 7,
     "metadata": {},
     "output_type": "execute_result"
    }
   ],
   "source": [
    "# retrieve expense by title\n",
    "db.get_expense_by_title('Maize')"
   ]
  },
  {
   "cell_type": "code",
   "execution_count": 8,
   "metadata": {},
   "outputs": [],
   "source": [
    "# Deleting Expenses\n",
    "db.remove_expense(e3.id)"
   ]
  },
  {
   "cell_type": "code",
   "execution_count": 9,
   "metadata": {},
   "outputs": [
    {
     "data": {
      "text/plain": [
       "[{'id': '471c0f8b-7252-4de1-b12c-5ac47e45c856',\n",
       "  'title': 'Food',\n",
       "  'amount': 10.0,\n",
       "  'created_at': '2025-02-22T22:44:42.105744+00:00',\n",
       "  'updated_at': '2025-02-22T22:44:42.105744+00:00'},\n",
       " {'id': 'a52ce43d-110d-4daf-b0dd-0b1e2841d866',\n",
       "  'title': 'Transport',\n",
       "  'amount': 5.0,\n",
       "  'created_at': '2025-02-22T22:44:42.105817+00:00',\n",
       "  'updated_at': '2025-02-22T22:44:42.105817+00:00'},\n",
       " {'id': 'd05bd16a-8f36-43c9-bff1-035c05674bc5',\n",
       "  'title': 'Carrot',\n",
       "  'amount': 15.0,\n",
       "  'created_at': '2025-02-22T22:44:42.105934+00:00',\n",
       "  'updated_at': '2025-02-22T22:44:42.105934+00:00'},\n",
       " {'id': '45d9f785-9686-4050-92f1-fea4177426ce',\n",
       "  'title': 'Maize',\n",
       "  'amount': 3.0,\n",
       "  'created_at': '2025-02-22T22:44:42.105989+00:00',\n",
       "  'updated_at': '2025-02-22T22:44:42.105989+00:00'}]"
      ]
     },
     "execution_count": 9,
     "metadata": {},
     "output_type": "execute_result"
    }
   ],
   "source": [
    "db.to_dict()"
   ]
  },
  {
   "cell_type": "code",
   "execution_count": null,
   "metadata": {},
   "outputs": [],
   "source": []
  }
 ],
 "metadata": {
  "kernelspec": {
   "display_name": "base",
   "language": "python",
   "name": "python3"
  },
  "language_info": {
   "codemirror_mode": {
    "name": "ipython",
    "version": 3
   },
   "file_extension": ".py",
   "mimetype": "text/x-python",
   "name": "python",
   "nbconvert_exporter": "python",
   "pygments_lexer": "ipython3",
   "version": "3.12.7"
  }
 },
 "nbformat": 4,
 "nbformat_minor": 2
}
